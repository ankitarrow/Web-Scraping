{
 "cells": [
  {
   "cell_type": "code",
   "execution_count": null,
   "metadata": {},
   "outputs": [],
   "source": [
    "from selenium import webdriver\n",
    "from selenium.webdriver.common.by import By\n",
    "from selenium.webdriver.common.keys import Keys\n",
    "import time\n",
    "from bs4 import BeautifulSoup\n",
    "import numpy as np\n",
    "import json\n"
   ]
  },
  {
   "cell_type": "code",
   "execution_count": null,
   "metadata": {},
   "outputs": [],
   "source": [
    "driver = webdriver.Chrome()  \n",
    "driver.get('https://hoopr.ai/search?q=&t=music')\n",
    "time.sleep(30)\n",
    "last_height = driver.execute_script(\"return document.body.scrollHeight\")\n",
    "max_iterations = 100  \n",
    "current_iteration = 0\n",
    "\n",
    "\n",
    "while current_iteration < max_iterations:\n",
    "    print(f\"Scrolling iteration: {current_iteration + 1}\")\n",
    "    driver.execute_script(\"window.scrollTo(0, document.body.scrollHeight);\")\n",
    "    time.sleep(3)  \n",
    "    new_height = driver.execute_script(\"return document.body.scrollHeight\")\n",
    "    if new_height == last_height:\n",
    "        print(\"No more new content to load.\")\n",
    "        break\n",
    "    last_height = new_height\n",
    "    current_iteration += 1\n",
    "driver.execute_script(\"window.scrollTo(0, 0);\")\n",
    "driver.execute_script(f\"window.scrollBy(0, {200});\")\n"
   ]
  },
  {
   "cell_type": "code",
   "execution_count": null,
   "metadata": {},
   "outputs": [],
   "source": [
    "def process_track(item,k):\n",
    "    \"\"\"Process a single track entry and extract details.\"\"\"\n",
    "    try:\n",
    "        data = item.text.strip()\n",
    "        print(f\"Processing: {data}\")\n",
    "\n",
    "        \n",
    "        track_info = data.split(\" ×Share Track\")[0].strip()\n",
    "\n",
    "        \n",
    "        parts = track_info.split()\n",
    "\n",
    "        \n",
    "        if len(parts) < 3:\n",
    "            print(f\"Skipping entry due to insufficient data: {track_info}\")\n",
    "            return None\n",
    "\n",
    "        \n",
    "        song_name = \" \".join(parts[:2])\n",
    "\n",
    "        \n",
    "        artist_index = 2\n",
    "        while artist_index < len(parts) and not parts[artist_index].replace(\":\", \"\").isdigit():\n",
    "            artist_index += 1\n",
    "\n",
    "        \n",
    "        if artist_index >= len(parts):\n",
    "            print(f\"Skipping entry due to missing duration: {track_info}\")\n",
    "            return None\n",
    "\n",
    "        artist = \" \".join(parts[2:artist_index])\n",
    "\n",
    "        \n",
    "        duration = parts[artist_index]\n",
    "\n",
    "        \n",
    "        genres = \" \".join(parts[artist_index + 1:]).split(\"  \")\n",
    "        main_genre = genres[0].strip() if genres else \"Unknown\"\n",
    "\n",
    "        \n",
    "        return {\n",
    "            \"Song Name\": song_name,\n",
    "            \"Artist\": artist,\n",
    "            \"Duration\": duration,\n",
    "            \"Main Genre\": main_genre,\n",
    "            \"audio-link\":str(k)\n",
    "        }\n",
    "    except Exception as e:\n",
    "        print(f\"Error processing entry: {item.text}\\n{e}\")\n",
    "        return None"
   ]
  },
  {
   "cell_type": "code",
   "execution_count": null,
   "metadata": {},
   "outputs": [],
   "source": [
    "track_data=[]\n",
    "soup = BeautifulSoup(driver.page_source, 'html.parser')\n",
    "\n",
    "\n",
    "print(\"Finding and clicking buttons within containers...\")\n",
    "containers = driver.find_elements(By.CLASS_NAME, 'ng-star-inserted')  \n",
    "\n",
    "for index in range(0, len(containers), 2):  \n",
    "    container = containers[index]\n",
    "    try:\n",
    "        container_html = container.get_attribute('outerHTML')\n",
    "         \n",
    "    \n",
    "        soup = BeautifulSoup(container_html, 'html.parser')\n",
    "        \n",
    "        button = container.find_element(By.CLASS_NAME, 'play-pause-icon')\n",
    "        \n",
    "        \n",
    "        button.click()\n",
    "        time.sleep(1)  \n",
    "        \n",
    "        \n",
    "        updated_soup = BeautifulSoup(driver.page_source, 'html.parser')\n",
    "        updated_global_tags = updated_soup.find('audio', {'preload': 'auto'})  \n",
    "        print(\"Updated global tags:\")\n",
    "        print(updated_global_tags)\n",
    "        \n",
    "        track = process_track(soup,updated_global_tags['src'])\n",
    "        if track:\n",
    "          track_data.append(track)\n",
    "        driver.execute_script(f\"window.scrollBy(0, {90});\")\n",
    "        \n",
    "         \n",
    "    except Exception as e:\n",
    "        print(f\"Error while clicking or extracting: {e}\")\n",
    "        \n",
    "driver.quit()"
   ]
  },
  {
   "cell_type": "code",
   "execution_count": null,
   "metadata": {},
   "outputs": [],
   "source": [
    "output_file = \"track_data.json\"\n",
    "with open(output_file, \"w\", encoding=\"utf-8\") as json_file:\n",
    "    json.dump(track_data, json_file, indent=4, ensure_ascii=False)\n",
    "\n",
    "print(f\"Data saved to '{output_file}'.\")"
   ]
  },
  {
   "cell_type": "code",
   "execution_count": null,
   "metadata": {},
   "outputs": [],
   "source": [
    "print(len(track_data))"
   ]
  },
  {
   "cell_type": "code",
   "execution_count": 2,
   "metadata": {},
   "outputs": [
    {
     "name": "stdout",
     "output_type": "stream",
     "text": [
      "Data saved to 'track_data.xlsx'.\n"
     ]
    }
   ],
   "source": [
    "import json\n",
    "import pandas as pd\n",
    "\n",
    "# Read data from track_data.json\n",
    "input_file = \"track_data.json\"\n",
    "with open(input_file, \"r\", encoding=\"utf-8\") as json_file:\n",
    "    track_data = json.load(json_file)\n",
    "\n",
    "# Process data for Excel\n",
    "processed_data = []\n",
    "for track in track_data:\n",
    "    genres = track[\"Main Genre\"].split(\", \")\n",
    "    processed_data.append({\n",
    "        \"Song Name\": track[\"Song Name\"],\n",
    "        \"Artist\": track[\"Artist\"],\n",
    "        \"Duration\": track[\"Duration\"],\n",
    "        \"audio-link\": track[\"audio-link\"],\n",
    "        \"Genre\": genres[0] if len(genres) > 0 else \"\",\n",
    "        \"Mood1\": genres[1] if len(genres) > 1 else \"\",\n",
    "        \"Mood2\": genres[2] if len(genres) > 2 else \"\"\n",
    "    })\n",
    "\n",
    "# Create a DataFrame\n",
    "df = pd.DataFrame(processed_data)\n",
    "\n",
    "# Save to Excel\n",
    "output_file = \"track_data.xlsx\"\n",
    "df.to_excel(output_file, index=False)\n",
    "\n",
    "print(f\"Data saved to '{output_file}'.\")\n"
   ]
  }
 ],
 "metadata": {
  "kernelspec": {
   "display_name": "Python 3",
   "language": "python",
   "name": "python3"
  },
  "language_info": {
   "codemirror_mode": {
    "name": "ipython",
    "version": 3
   },
   "file_extension": ".py",
   "mimetype": "text/x-python",
   "name": "python",
   "nbconvert_exporter": "python",
   "pygments_lexer": "ipython3",
   "version": "3.10.11"
  }
 },
 "nbformat": 4,
 "nbformat_minor": 2
}
